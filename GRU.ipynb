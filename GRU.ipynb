{
 "cells": [
  {
   "cell_type": "code",
   "execution_count": 1,
   "metadata": {},
   "outputs": [],
   "source": [
    "import sys\n",
    "sys.path.append('.\\\\')"
   ]
  },
  {
   "cell_type": "code",
   "execution_count": 2,
   "metadata": {},
   "outputs": [],
   "source": [
    "import numpy as np\n",
    "import tensorflow as tf\n",
    "from tensorflow import keras\n",
    "\n",
    "# RNN\n",
    "from keras.models import Sequential  \n",
    "from keras.layers import Dense, GRU\n",
    "from keras.layers import Input\n",
    "\n",
    "import helper_functions"
   ]
  },
  {
   "cell_type": "markdown",
   "metadata": {},
   "source": [
    "# Extract data"
   ]
  },
  {
   "cell_type": "code",
   "execution_count": 3,
   "metadata": {},
   "outputs": [],
   "source": [
    "train_data = helper_functions.load_data()"
   ]
  },
  {
   "cell_type": "code",
   "execution_count": 29,
   "metadata": {},
   "outputs": [
    {
     "name": "stdout",
     "output_type": "stream",
     "text": [
      "mel-log data shape: (15, 173)\n"
     ]
    }
   ],
   "source": [
    "# Data is normalised, so each input has the same shape\n",
    "input_shape = train_data[\"mfccs\"][0].shape\n",
    "print(f'mel-log data shape: {input_shape}')"
   ]
  },
  {
   "cell_type": "code",
   "execution_count": 5,
   "metadata": {},
   "outputs": [
    {
     "data": {
      "text/plain": [
       "12"
      ]
     },
     "execution_count": 5,
     "metadata": {},
     "output_type": "execute_result"
    }
   ],
   "source": [
    "n_classes = len(train_data['classes'][0])\n",
    "n_classes"
   ]
  },
  {
   "cell_type": "code",
   "execution_count": 84,
   "metadata": {},
   "outputs": [
    {
     "name": "stdout",
     "output_type": "stream",
     "text": [
      "x_train shape: (64721, 15, 173)\n",
      "y_train shape: (64721,)\n",
      "n_dim: 173\n"
     ]
    }
   ],
   "source": [
    "x = np.array(train_data['mfccs'])\n",
    "y = np.array([helper_functions.one_hot_to_label(label) for label in train_data['classes']])\n",
    "y_train_one_hot = np.array(train_data['classes'])\n",
    "n_dim = x_train.shape[2]"
   ]
  },
  {
   "cell_type": "code",
   "execution_count": 98,
   "metadata": {},
   "outputs": [],
   "source": [
    "from sklearn.model_selection import train_test_split\n",
    "x_train, x_val, y_train, y_val = train_test_split(x, y_train_one_hot, test_size=0.2)"
   ]
  },
  {
   "cell_type": "code",
   "execution_count": 99,
   "metadata": {},
   "outputs": [
    {
     "name": "stdout",
     "output_type": "stream",
     "text": [
      "x_train shape: (51776, 15, 173)\n",
      "y_train shape: (51776, 12)\n",
      "n_dim: 173\n"
     ]
    }
   ],
   "source": [
    "print(f'x_train shape: {x_train.shape}')\n",
    "print(f'y_train shape: {y_train.shape}')\n",
    "print(f'n_dim: {n_dim}')"
   ]
  },
  {
   "cell_type": "markdown",
   "metadata": {},
   "source": [
    "# Build the model"
   ]
  },
  {
   "cell_type": "code",
   "execution_count": 68,
   "metadata": {},
   "outputs": [],
   "source": [
    "from keras.layers import GlobalMaxPooling1D, Dropout, BatchNormalization\n",
    "from keras.optimizers import Adam"
   ]
  },
  {
   "cell_type": "code",
   "execution_count": 100,
   "metadata": {},
   "outputs": [],
   "source": [
    "model = Sequential()\n",
    "model.add(Input(shape=input_shape))\n",
    "model.add(BatchNormalization(axis=2))\n",
    "model.add(GRU(n_dim*2, return_sequences=True, dropout=0.01, recurrent_dropout=0.1, activation='relu'))  \n",
    "# model.add(GRU(50*2, dropout=0.05, recurrent_dropout=0.15, return_sequences=True, activation='relu'))\n",
    "model.add(Dropout(0.2))\n",
    "model.add(GlobalMaxPooling1D(input_shape=(None, 15, 173)))\n",
    "# model.add(GRU(n_dim, return_sequences=True, dropout=0.1, recurrent_dropout=0.2, activation='relu'))  \n",
    "# model.add(Dropout(0.2))\n",
    "# model.add(GRU(n_dim, dropout=0.1, recurrent_dropout=0.2))  \n",
    "# model.add(Dense(15, activation='relu'))  \n",
    "model.add(Dense(n_classes, activation='softmax'))"
   ]
  },
  {
   "cell_type": "code",
   "execution_count": 101,
   "metadata": {},
   "outputs": [],
   "source": [
    "# model compilation  \n",
    "optimizer = Adam(learning_rate=1e-3)\n",
    "loss = keras.losses.CategoricalCrossentropy(from_logits=True)\n",
    "model.compile(loss='categorical_crossentropy', optimizer=optimizer, metrics=['accuracy'])"
   ]
  },
  {
   "cell_type": "code",
   "execution_count": 102,
   "metadata": {},
   "outputs": [
    {
     "name": "stdout",
     "output_type": "stream",
     "text": [
      "Model: \"sequential_25\"\n",
      "_________________________________________________________________\n",
      "Layer (type)                 Output Shape              Param #   \n",
      "=================================================================\n",
      "batch_normalization_5 (Batch (None, 15, 173)           692       \n",
      "_________________________________________________________________\n",
      "gru_55 (GRU)                 (None, 15, 346)           540798    \n",
      "_________________________________________________________________\n",
      "dropout_5 (Dropout)          (None, 15, 346)           0         \n",
      "_________________________________________________________________\n",
      "global_max_pooling1d_16 (Glo (None, 346)               0         \n",
      "_________________________________________________________________\n",
      "dense_29 (Dense)             (None, 12)                4164      \n",
      "=================================================================\n",
      "Total params: 545,654\n",
      "Trainable params: 545,308\n",
      "Non-trainable params: 346\n",
      "_________________________________________________________________\n"
     ]
    }
   ],
   "source": [
    "model.summary()"
   ]
  },
  {
   "cell_type": "code",
   "execution_count": 103,
   "metadata": {},
   "outputs": [
    {
     "name": "stdout",
     "output_type": "stream",
     "text": [
      "Epoch 1/5\n",
      "809/809 [==============================] - 138s 156ms/step - loss: 1.3643 - accuracy: 0.6450 - val_loss: 0.7788 - val_accuracy: 0.7540\n",
      "Epoch 2/5\n",
      "809/809 [==============================] - 121s 149ms/step - loss: 0.7312 - accuracy: 0.7634 - val_loss: 0.6107 - val_accuracy: 0.8061\n",
      "Epoch 3/5\n",
      "809/809 [==============================] - 116s 144ms/step - loss: 0.5551 - accuracy: 0.8168 - val_loss: 0.4859 - val_accuracy: 0.8377\n",
      "Epoch 4/5\n",
      "809/809 [==============================] - 126s 156ms/step - loss: 0.4633 - accuracy: 0.8481 - val_loss: 0.4572 - val_accuracy: 0.8512\n",
      "Epoch 5/5\n",
      "809/809 [==============================] - 122s 151ms/step - loss: 0.4088 - accuracy: 0.8653 - val_loss: 0.4126 - val_accuracy: 0.8674\n"
     ]
    },
    {
     "data": {
      "text/plain": [
       "<tensorflow.python.keras.callbacks.History at 0x292c5abed30>"
      ]
     },
     "execution_count": 103,
     "metadata": {},
     "output_type": "execute_result"
    }
   ],
   "source": [
    "model.fit(x_train, y_train, epochs=5, batch_size=64, validation_data=(x_val, y_val))"
   ]
  },
  {
   "cell_type": "markdown",
   "metadata": {},
   "source": [
    "# Save model"
   ]
  },
  {
   "cell_type": "code",
   "execution_count": 110,
   "metadata": {},
   "outputs": [
    {
     "name": "stdout",
     "output_type": "stream",
     "text": [
      "INFO:tensorflow:Assets written to: .\\models\\gru\\assets\n"
     ]
    }
   ],
   "source": [
    "model.save('.\\\\models\\\\gru')"
   ]
  }
 ],
 "metadata": {
  "kernelspec": {
   "display_name": "Python 3",
   "language": "python",
   "name": "python3"
  },
  "language_info": {
   "codemirror_mode": {
    "name": "ipython",
    "version": 3
   },
   "file_extension": ".py",
   "mimetype": "text/x-python",
   "name": "python",
   "nbconvert_exporter": "python",
   "pygments_lexer": "ipython3",
   "version": "3.8.2"
  }
 },
 "nbformat": 4,
 "nbformat_minor": 4
}
