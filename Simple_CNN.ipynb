{
 "cells": [
  {
   "cell_type": "code",
   "execution_count": 1,
   "metadata": {},
   "outputs": [],
   "source": [
    "import numpy as np\n",
    "import tensorflow as tf\n",
    "import matplotlib.pyplot as plt\n",
    "\n",
    "from sklearn.model_selection import train_test_split\n",
    "\n",
    "import helper_functions\n",
    "\n",
    "EPOCHS = 40\n",
    "BATCH_SIZE = 32\n",
    "PATIENCE = 5\n",
    "LEARNING_RATE = 0.0001"
   ]
  },
  {
   "cell_type": "code",
   "execution_count": 2,
   "metadata": {},
   "outputs": [
    {
     "name": "stdout",
     "output_type": "stream",
     "text": [
      "[11 11 11 ... 11 11 11]\n"
     ]
    }
   ],
   "source": [
    "# load dataset\n",
    "train_data = helper_functions.load_data()\n",
    "\n",
    "X = np.array(train_data['mfccs'], dtype=float)\n",
    "y = np.array([helper_functions.one_hot_to_label(label) for label in train_data['classes']])\n",
    "y_train_one_hot = np.array(train_data['classes'])\n",
    "y = y_train_one_hot.argmax(axis=1)\n",
    "print(y)"
   ]
  },
  {
   "cell_type": "code",
   "execution_count": 3,
   "metadata": {},
   "outputs": [
    {
     "name": "stdout",
     "output_type": "stream",
     "text": [
      "x_train shape: (52423, 15, 173, 1)\n",
      "y_train shape: (52423,)\n",
      "n_dim: 173\n"
     ]
    }
   ],
   "source": [
    "# create train/validation/test splits\n",
    "X_train, X_test, y_train, y_test = train_test_split(X, y, test_size=0.1)\n",
    "X_train, X_validation, y_train, y_validation = train_test_split(X_train, y_train, test_size=0.1)\n",
    "\n",
    "# convert inputs which are 2 dimensional MFCC arrays into 3 dimensional arrays\n",
    "# Currently shape of the arrays is (# segments, 13), we want to add a 3rd dimension so we have (# segments, 13, 1)\n",
    "X_train = X_train[..., np.newaxis]\n",
    "X_validation = X_validation[..., np.newaxis]\n",
    "X_test = X_test[..., np.newaxis]\n",
    "\n",
    "n_dim = X_train.shape[2]\n",
    "\n",
    "print(f'x_train shape: {X_train.shape}')\n",
    "print(f'y_train shape: {y_train.shape}')\n",
    "print(f'n_dim: {n_dim}')"
   ]
  },
  {
   "cell_type": "code",
   "execution_count": 4,
   "metadata": {},
   "outputs": [
    {
     "name": "stdout",
     "output_type": "stream",
     "text": [
      "Model: \"sequential\"\n",
      "_________________________________________________________________\n",
      "Layer (type)                 Output Shape              Param #   \n",
      "=================================================================\n",
      "conv2d (Conv2D)              (None, 13, 171, 64)       640       \n",
      "_________________________________________________________________\n",
      "batch_normalization (BatchNo (None, 13, 171, 64)       256       \n",
      "_________________________________________________________________\n",
      "max_pooling2d (MaxPooling2D) (None, 7, 86, 64)         0         \n",
      "_________________________________________________________________\n",
      "conv2d_1 (Conv2D)            (None, 5, 84, 32)         18464     \n",
      "_________________________________________________________________\n",
      "batch_normalization_1 (Batch (None, 5, 84, 32)         128       \n",
      "_________________________________________________________________\n",
      "max_pooling2d_1 (MaxPooling2 (None, 3, 42, 32)         0         \n",
      "_________________________________________________________________\n",
      "conv2d_2 (Conv2D)            (None, 2, 41, 32)         4128      \n",
      "_________________________________________________________________\n",
      "batch_normalization_2 (Batch (None, 2, 41, 32)         128       \n",
      "_________________________________________________________________\n",
      "max_pooling2d_2 (MaxPooling2 (None, 1, 21, 32)         0         \n",
      "_________________________________________________________________\n",
      "flatten (Flatten)            (None, 672)               0         \n",
      "_________________________________________________________________\n",
      "dense (Dense)                (None, 64)                43072     \n",
      "_________________________________________________________________\n",
      "dense_1 (Dense)              (None, 35)                2275      \n",
      "=================================================================\n",
      "Total params: 69,091\n",
      "Trainable params: 68,835\n",
      "Non-trainable params: 256\n",
      "_________________________________________________________________\n"
     ]
    }
   ],
   "source": [
    "input_shape = (X_train.shape[1], X_train.shape[2], 1)\n",
    "\n",
    "# build network architecture using convolutional layers\n",
    "model = tf.keras.models.Sequential()\n",
    "\n",
    "# 1st conv layer\n",
    "model.add(tf.keras.layers.Conv2D(64, (3, 3), activation='relu', input_shape=input_shape, kernel_regularizer=tf.keras.regularizers.l2(0.001)))\n",
    "model.add(tf.keras.layers.BatchNormalization())\n",
    "model.add(tf.keras.layers.MaxPooling2D((3, 3), strides=(2,2), padding='same'))\n",
    "\n",
    "# 2nd conv layer\n",
    "model.add(tf.keras.layers.Conv2D(32, (3, 3), activation='relu',\n",
    "                                     kernel_regularizer=tf.keras.regularizers.l2(0.001)))\n",
    "model.add(tf.keras.layers.BatchNormalization())\n",
    "model.add(tf.keras.layers.MaxPooling2D((3, 3), strides=(2,2), padding='same'))\n",
    "\n",
    "# 3rd conv layer\n",
    "model.add(tf.keras.layers.Conv2D(32, (2, 2), activation='relu', kernel_regularizer=tf.keras.regularizers.l2(0.001)))\n",
    "model.add(tf.keras.layers.BatchNormalization())\n",
    "model.add(tf.keras.layers.MaxPooling2D((2, 2), strides=(2,2), padding='same'))\n",
    "\n",
    "# flatten output and feed into dense layer\n",
    "model.add(tf.keras.layers.Flatten())\n",
    "model.add(tf.keras.layers.Dense(64, activation='relu'))\n",
    "tf.keras.layers.Dropout(0.3)\n",
    "\n",
    "# softmax output layer\n",
    "model.add(tf.keras.layers.Dense(35, activation='softmax'))\n",
    "\n",
    "optimiser = tf.optimizers.Adam(learning_rate=LEARNING_RATE)\n",
    "\n",
    "# compile model\n",
    "model.compile(optimizer=optimiser, loss=\"sparse_categorical_crossentropy\", metrics=[\"accuracy\"])\n",
    "\n",
    "# print model parameters on console\n",
    "model.summary()"
   ]
  },
  {
   "cell_type": "code",
   "execution_count": 5,
   "metadata": {},
   "outputs": [
    {
     "name": "stdout",
     "output_type": "stream",
     "text": [
      "Epoch 1/40\n",
      "1639/1639 [==============================] - 486s 296ms/step - loss: 1.8855 - accuracy: 0.5733 - val_loss: 1.0270 - val_accuracy: 0.7008\n",
      "Epoch 2/40\n",
      "1639/1639 [==============================] - 206s 126ms/step - loss: 0.9337 - accuracy: 0.7296 - val_loss: 0.7441 - val_accuracy: 0.7758\n",
      "Epoch 3/40\n",
      "1639/1639 [==============================] - 175s 107ms/step - loss: 0.6893 - accuracy: 0.8038 - val_loss: 0.6241 - val_accuracy: 0.8156\n",
      "Epoch 4/40\n",
      "1639/1639 [==============================] - 197s 120ms/step - loss: 0.5341 - accuracy: 0.8538 - val_loss: 0.5168 - val_accuracy: 0.8555\n",
      "Epoch 5/40\n",
      "1639/1639 [==============================] - 252s 154ms/step - loss: 0.4538 - accuracy: 0.8802 - val_loss: 0.4743 - val_accuracy: 0.8699\n",
      "Epoch 6/40\n",
      "1639/1639 [==============================] - 149s 90ms/step - loss: 0.3943 - accuracy: 0.8984 - val_loss: 0.4521 - val_accuracy: 0.8757\n",
      "Epoch 7/40\n",
      "1639/1639 [==============================] - 149s 91ms/step - loss: 0.3570 - accuracy: 0.9074 - val_loss: 0.4270 - val_accuracy: 0.8879\n",
      "Epoch 8/40\n",
      "1639/1639 [==============================] - 164s 100ms/step - loss: 0.3217 - accuracy: 0.9174 - val_loss: 0.4540 - val_accuracy: 0.8735\n",
      "Epoch 9/40\n",
      "1639/1639 [==============================] - 149s 90ms/step - loss: 0.2985 - accuracy: 0.9265 - val_loss: 0.3819 - val_accuracy: 0.8992\n",
      "Epoch 10/40\n",
      "1639/1639 [==============================] - 174s 106ms/step - loss: 0.2729 - accuracy: 0.9340 - val_loss: 0.3792 - val_accuracy: 0.9008\n",
      "Epoch 11/40\n",
      "1639/1639 [==============================] - 140s 85ms/step - loss: 0.2552 - accuracy: 0.9398 - val_loss: 0.3479 - val_accuracy: 0.9106\n",
      "Epoch 12/40\n",
      "1639/1639 [==============================] - 168s 103ms/step - loss: 0.2457 - accuracy: 0.9415 - val_loss: 0.3246 - val_accuracy: 0.9147\n",
      "Epoch 13/40\n",
      "1639/1639 [==============================] - 151s 92ms/step - loss: 0.2320 - accuracy: 0.9456 - val_loss: 0.3281 - val_accuracy: 0.9145\n",
      "Epoch 14/40\n",
      "1639/1639 [==============================] - 139s 84ms/step - loss: 0.2174 - accuracy: 0.9495 - val_loss: 0.3618 - val_accuracy: 0.9051\n",
      "Epoch 15/40\n",
      "1639/1639 [==============================] - 155s 94ms/step - loss: 0.2075 - accuracy: 0.9528 - val_loss: 0.3083 - val_accuracy: 0.9205\n",
      "Epoch 16/40\n",
      "1639/1639 [==============================] - 154s 94ms/step - loss: 0.1927 - accuracy: 0.9568 - val_loss: 0.3273 - val_accuracy: 0.9142\n",
      "Epoch 17/40\n",
      "1639/1639 [==============================] - 137s 83ms/step - loss: 0.1851 - accuracy: 0.9580 - val_loss: 0.3099 - val_accuracy: 0.9195\n",
      "Epoch 18/40\n",
      "1639/1639 [==============================] - 130s 79ms/step - loss: 0.1789 - accuracy: 0.9604 - val_loss: 0.2950 - val_accuracy: 0.9250\n",
      "Epoch 19/40\n",
      "1639/1639 [==============================] - 107s 65ms/step - loss: 0.1685 - accuracy: 0.9636 - val_loss: 0.3035 - val_accuracy: 0.9245\n",
      "Epoch 20/40\n",
      "1639/1639 [==============================] - 125s 76ms/step - loss: 0.1598 - accuracy: 0.9659 - val_loss: 0.2911 - val_accuracy: 0.9264\n",
      "Epoch 21/40\n",
      "1639/1639 [==============================] - 132s 80ms/step - loss: 0.1552 - accuracy: 0.9672 - val_loss: 0.2919 - val_accuracy: 0.9236\n",
      "Epoch 22/40\n",
      "1639/1639 [==============================] - 102s 62ms/step - loss: 0.1443 - accuracy: 0.9708 - val_loss: 0.2942 - val_accuracy: 0.9296\n",
      "Epoch 23/40\n",
      "1639/1639 [==============================] - 110s 67ms/step - loss: 0.1378 - accuracy: 0.9730 - val_loss: 0.2888 - val_accuracy: 0.9239\n",
      "Epoch 24/40\n",
      "1639/1639 [==============================] - 141s 86ms/step - loss: 0.1359 - accuracy: 0.9724 - val_loss: 0.3006 - val_accuracy: 0.9272\n",
      "Epoch 25/40\n",
      "1639/1639 [==============================] - 139s 85ms/step - loss: 0.1287 - accuracy: 0.9750 - val_loss: 0.2939 - val_accuracy: 0.9291\n",
      "Epoch 26/40\n",
      "1639/1639 [==============================] - 114s 70ms/step - loss: 0.1210 - accuracy: 0.9784 - val_loss: 0.3029 - val_accuracy: 0.9265\n",
      "Epoch 27/40\n",
      "1639/1639 [==============================] - 150s 91ms/step - loss: 0.1191 - accuracy: 0.9776 - val_loss: 0.3057 - val_accuracy: 0.9289\n",
      "Epoch 28/40\n",
      "1639/1639 [==============================] - 146s 89ms/step - loss: 0.1132 - accuracy: 0.9797 - val_loss: 0.3038 - val_accuracy: 0.9270\n",
      "Epoch 29/40\n",
      "1639/1639 [==============================] - 122s 74ms/step - loss: 0.1109 - accuracy: 0.9795 - val_loss: 0.3256 - val_accuracy: 0.9221\n",
      "Epoch 30/40\n",
      "1639/1639 [==============================] - 137s 83ms/step - loss: 0.1102 - accuracy: 0.9793 - val_loss: 0.3168 - val_accuracy: 0.9246\n",
      "Epoch 31/40\n",
      "1639/1639 [==============================] - 115s 70ms/step - loss: 0.1033 - accuracy: 0.9818 - val_loss: 0.3007 - val_accuracy: 0.9288\n",
      "Epoch 32/40\n",
      "1639/1639 [==============================] - 122s 74ms/step - loss: 0.0976 - accuracy: 0.9837 - val_loss: 0.3049 - val_accuracy: 0.9289\n",
      "Epoch 33/40\n",
      "1639/1639 [==============================] - 127s 77ms/step - loss: 0.0982 - accuracy: 0.9826 - val_loss: 0.3168 - val_accuracy: 0.9224\n",
      "Epoch 34/40\n",
      "1639/1639 [==============================] - 128s 78ms/step - loss: 0.0917 - accuracy: 0.9853 - val_loss: 0.2975 - val_accuracy: 0.9303\n",
      "Epoch 35/40\n",
      "1639/1639 [==============================] - 129s 79ms/step - loss: 0.0884 - accuracy: 0.9858 - val_loss: 0.3194 - val_accuracy: 0.9246\n",
      "Epoch 36/40\n",
      "1639/1639 [==============================] - 127s 77ms/step - loss: 0.0842 - accuracy: 0.9874 - val_loss: 0.3062 - val_accuracy: 0.9282\n",
      "Epoch 37/40\n",
      "1639/1639 [==============================] - 123s 75ms/step - loss: 0.0838 - accuracy: 0.9861 - val_loss: 0.3264 - val_accuracy: 0.9258\n",
      "Epoch 38/40\n",
      "1639/1639 [==============================] - 122s 75ms/step - loss: 0.0808 - accuracy: 0.9877 - val_loss: 0.3150 - val_accuracy: 0.9296\n",
      "Epoch 39/40\n",
      "1639/1639 [==============================] - 126s 77ms/step - loss: 0.0768 - accuracy: 0.9891 - val_loss: 0.3579 - val_accuracy: 0.9212\n",
      "Epoch 40/40\n",
      "1639/1639 [==============================] - 125s 76ms/step - loss: 0.0755 - accuracy: 0.9891 - val_loss: 0.3355 - val_accuracy: 0.9210\n"
     ]
    },
    {
     "data": {
      "text/plain": [
       "<tensorflow.python.keras.callbacks.History at 0x7efd7c791640>"
      ]
     },
     "execution_count": 5,
     "metadata": {},
     "output_type": "execute_result"
    }
   ],
   "source": [
    "# train the model\n",
    "model.fit(X_train, y_train, epochs=EPOCHS, batch_size=BATCH_SIZE, validation_data=(X_validation, y_validation))"
   ]
  },
  {
   "cell_type": "code",
   "execution_count": 12,
   "metadata": {
    "scrolled": false
   },
   "outputs": [
    {
     "name": "stdout",
     "output_type": "stream",
     "text": [
      "INFO:tensorflow:Assets written to: models/ross_cnn/assets\n"
     ]
    }
   ],
   "source": [
    "import sys\n",
    "model.save('models/ross_cnn')"
   ]
  }
 ],
 "metadata": {
  "kernelspec": {
   "display_name": "Python 3",
   "language": "python",
   "name": "python3"
  },
  "language_info": {
   "codemirror_mode": {
    "name": "ipython",
    "version": 3
   },
   "file_extension": ".py",
   "mimetype": "text/x-python",
   "name": "python",
   "nbconvert_exporter": "python",
   "pygments_lexer": "ipython3",
   "version": "3.9.1"
  }
 },
 "nbformat": 4,
 "nbformat_minor": 5
}
