{
 "cells": [
  {
   "cell_type": "code",
   "execution_count": 36,
   "metadata": {},
   "outputs": [],
   "source": [
    "import helper_functions\n",
    "import numpy as np\n",
    "import tensorflow as tf\n",
    "from tensorflow import keras\n",
    "import pickle\n",
    "\n",
    "# LSTM\n",
    "from keras.models import Sequential  \n",
    "from keras.layers import Dense, Conv1D, Activation \n",
    "from keras.layers import InputLayer, Dropout, LSTM, BatchNormalization\n",
    "\n",
    "import helper_functions"
   ]
  },
  {
   "cell_type": "markdown",
   "metadata": {},
   "source": [
    "# Load Data \n"
   ]
  },
  {
   "cell_type": "code",
   "execution_count": 37,
   "metadata": {},
   "outputs": [],
   "source": [
    "# I am not using the helper function as my path is different (Alex)\n",
    "data_path = 'data/processed/data'\n",
    "with open(data_path, 'rb') as f:\n",
    "    data = pickle.Unpickler(f).load()"
   ]
  },
  {
   "cell_type": "code",
   "execution_count": 38,
   "metadata": {},
   "outputs": [
    {
     "name": "stderr",
     "output_type": "stream",
     "text": [
      "<ipython-input-38-9fd0e306c2b1>:7: VisibleDeprecationWarning: Creating an ndarray from ragged nested sequences (which is a list-or-tuple of lists-or-tuples-or ndarrays with different lengths or shapes) is deprecated. If you meant to do this, you must specify 'dtype=object' when creating the ndarray\n",
      "  ShuffledData = np.array(dataToShuffle)\n"
     ]
    }
   ],
   "source": [
    "# Shuffle the data\n",
    "dataToShuffle = []\n",
    "\n",
    "for log, mfcc, label in zip(data['log-mel'],data['mfccs'],data['classes']):\n",
    "    dataToShuffle.append([log,mfcc,label])\n",
    "\n",
    "ShuffledData = np.array(dataToShuffle)\n",
    "np.random.shuffle(ShuffledData)"
   ]
  },
  {
   "cell_type": "code",
   "execution_count": 39,
   "metadata": {},
   "outputs": [],
   "source": [
    "# Separate the data into training and test datasets\n",
    "Train = ShuffledData[:45305]\n",
    "Test = ShuffledData[45305:]\n",
    "\n",
    "log_train = []\n",
    "mfcc_train = []\n",
    "y_train = []\n",
    "\n",
    "log_test = []\n",
    "mfcc_test = []\n",
    "y_test = []\n",
    "\n",
    "for log, mfcc, label in Train:\n",
    "    log_train.append(log)\n",
    "    mfcc_train.append(mfcc)\n",
    "    y_train.append(label)\n",
    "    \n",
    "for log, mfcc, label in Test:\n",
    "    log_test.append(log)\n",
    "    mfcc_test.append(mfcc)\n",
    "    y_test.append(label)\n"
   ]
  },
  {
   "cell_type": "markdown",
   "metadata": {},
   "source": [
    "# Create the model \n"
   ]
  },
  {
   "cell_type": "code",
   "execution_count": 40,
   "metadata": {},
   "outputs": [],
   "source": [
    "InputShape = log_test[0].shape\n",
    "output_dim = y_test[0].shape[0]\n",
    "\n",
    "dropout = 0.2\n",
    "\n",
    "\n",
    "# Creation of the Convolutional LSTM\n",
    "CLSTM = Sequential()\n",
    "CLSTM.add(InputLayer(input_shape = InputShape))\n",
    "CLSTM.add(Conv1D(filters=256, kernel_size=10, strides=4, name='conv_1'))\n",
    "CLSTM.add(Activation('relu'))\n",
    "CLSTM.add(BatchNormalization())\n",
    "CLSTM.add(Dropout(dropout, name='dropout_1'))\n",
    "CLSTM.add(LSTM(128, activation='relu', return_sequences=True,\n",
    "             dropout=dropout, name='lstm_1'))\n",
    "CLSTM.add(LSTM(128, activation='relu', return_sequences=False,\n",
    "             dropout=dropout, name='lstm_2'))\n",
    "CLSTM.add(Dense(units=64, activation='relu', name='fc'))\n",
    "CLSTM.add(Dropout(dropout, name='dropout_2'))\n",
    "CLSTM.add(Dense(units=output_dim, activation='softmax', name='softmax'))\n",
    "\n",
    "# Compile the model \n",
    "CLSTM.compile(loss='categorical_crossentropy', optimizer='Adam', metrics=['accuracy'])"
   ]
  },
  {
   "cell_type": "code",
   "execution_count": 41,
   "metadata": {},
   "outputs": [
    {
     "name": "stdout",
     "output_type": "stream",
     "text": [
      "Model: \"sequential_15\"\n",
      "_________________________________________________________________\n",
      "Layer (type)                 Output Shape              Param #   \n",
      "=================================================================\n",
      "conv_1 (Conv1D)              (None, 2, 256)            443136    \n",
      "_________________________________________________________________\n",
      "activation_8 (Activation)    (None, 2, 256)            0         \n",
      "_________________________________________________________________\n",
      "batch_normalization (BatchNo (None, 2, 256)            1024      \n",
      "_________________________________________________________________\n",
      "dropout_1 (Dropout)          (None, 2, 256)            0         \n",
      "_________________________________________________________________\n",
      "lstm_1 (LSTM)                (None, 2, 128)            197120    \n",
      "_________________________________________________________________\n",
      "lstm_2 (LSTM)                (None, 128)               131584    \n",
      "_________________________________________________________________\n",
      "fc (Dense)                   (None, 64)                8256      \n",
      "_________________________________________________________________\n",
      "dropout_2 (Dropout)          (None, 64)                0         \n",
      "_________________________________________________________________\n",
      "softmax (Dense)              (None, 12)                780       \n",
      "=================================================================\n",
      "Total params: 781,900\n",
      "Trainable params: 781,388\n",
      "Non-trainable params: 512\n",
      "_________________________________________________________________\n"
     ]
    }
   ],
   "source": [
    "CLSTM.summary()"
   ]
  },
  {
   "cell_type": "code",
   "execution_count": 44,
   "metadata": {},
   "outputs": [
    {
     "name": "stdout",
     "output_type": "stream",
     "text": [
      "Epoch 1/12\n",
      "354/354 [==============================] - 16s 45ms/step - loss: 1.1897 - accuracy: 0.6620\n",
      "Epoch 2/12\n",
      "354/354 [==============================] - 14s 40ms/step - loss: 0.8948 - accuracy: 0.7161\n",
      "Epoch 3/12\n",
      "354/354 [==============================] - 16s 45ms/step - loss: 0.7662 - accuracy: 0.7499\n",
      "Epoch 4/12\n",
      "354/354 [==============================] - 20s 56ms/step - loss: 0.6825 - accuracy: 0.7767\n",
      "Epoch 5/12\n",
      "354/354 [==============================] - 16s 45ms/step - loss: 0.6232 - accuracy: 0.7963\n",
      "Epoch 6/12\n",
      "354/354 [==============================] - 14s 39ms/step - loss: 0.5878 - accuracy: 0.8053\n",
      "Epoch 7/12\n",
      "354/354 [==============================] - 15s 43ms/step - loss: 0.5491 - accuracy: 0.8186\n",
      "Epoch 8/12\n",
      "354/354 [==============================] - 13s 37ms/step - loss: 0.5195 - accuracy: 0.8279\n",
      "Epoch 9/12\n",
      "354/354 [==============================] - 13s 37ms/step - loss: 0.4973 - accuracy: 0.8364\n",
      "Epoch 10/12\n",
      "354/354 [==============================] - 14s 39ms/step - loss: 0.4768 - accuracy: 0.8418\n",
      "Epoch 11/12\n",
      "354/354 [==============================] - 14s 38ms/step - loss: 0.4532 - accuracy: 0.8500\n",
      "Epoch 12/12\n",
      "354/354 [==============================] - 13s 38ms/step - loss: 0.4334 - accuracy: 0.8551\n"
     ]
    },
    {
     "data": {
      "text/plain": [
       "<keras.callbacks.History at 0x18a02b58ca0>"
      ]
     },
     "execution_count": 44,
     "metadata": {},
     "output_type": "execute_result"
    }
   ],
   "source": [
    "#Train the model \n",
    "x_train = np.array(mfcc_train)\n",
    "y_train = np.array(y_train)\n",
    "CLSTM.fit(x=x_train, y=y_train, epochs=12, batch_size=128)"
   ]
  },
  {
   "cell_type": "code",
   "execution_count": 45,
   "metadata": {},
   "outputs": [
    {
     "name": "stdout",
     "output_type": "stream",
     "text": [
      "607/607 [==============================] - 3s 5ms/step - loss: 0.4015 - accuracy: 0.8687\n"
     ]
    }
   ],
   "source": [
    "# Testing the model \n",
    "x_test = np.array(mfcc_test)\n",
    "y_test = np.array(y_test)\n",
    "score = CLSTM.evaluate(x_test,y_test)"
   ]
  },
  {
   "cell_type": "code",
   "execution_count": null,
   "metadata": {},
   "outputs": [],
   "source": []
  }
 ],
 "metadata": {
  "kernelspec": {
   "display_name": "Python 3",
   "language": "python",
   "name": "python3"
  },
  "language_info": {
   "codemirror_mode": {
    "name": "ipython",
    "version": 3
   },
   "file_extension": ".py",
   "mimetype": "text/x-python",
   "name": "python",
   "nbconvert_exporter": "python",
   "pygments_lexer": "ipython3",
   "version": "3.8.10"
  }
 },
 "nbformat": 4,
 "nbformat_minor": 4
}
