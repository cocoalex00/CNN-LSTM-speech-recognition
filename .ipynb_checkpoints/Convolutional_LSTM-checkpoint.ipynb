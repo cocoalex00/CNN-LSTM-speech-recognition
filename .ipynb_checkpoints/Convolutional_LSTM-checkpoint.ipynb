{
 "cells": [
  {
   "cell_type": "code",
   "execution_count": 193,
   "metadata": {},
   "outputs": [],
   "source": [
    "import helper_functions\n",
    "import numpy as np\n",
    "import tensorflow as tf\n",
    "from tensorflow import keras\n",
    "import pickle\n",
    "\n",
    "# LSTM\n",
    "from tensorflow.keras.models import Sequential  \n",
    "from tensorflow.keras.layers import Dense, Conv1D, Activation, Conv2D, Flatten\n",
    "from tensorflow.keras.layers import InputLayer, Dropout, LSTM, BatchNormalization\n",
    "\n",
    "import helper_functions\n",
    "\n",
    "from sklearn.metrics import confusion_matrix\n",
    "\n",
    "import seaborn as sns\n",
    "from sklearn.model_selection import train_test_split\n",
    "\n",
    "\n",
    "import matplotlib.pyplot as plt"
   ]
  },
  {
   "cell_type": "markdown",
   "metadata": {},
   "source": [
    "# Load Data \n"
   ]
  },
  {
   "cell_type": "code",
   "execution_count": 171,
   "metadata": {},
   "outputs": [],
   "source": [
    "# I am not using the helper function as my path is different (Alex)\n",
    "data_path = 'data/processed/data'\n",
    "with open(data_path, 'rb') as f:\n",
    "    data = pickle.Unpickler(f).load()"
   ]
  },
  {
   "cell_type": "code",
   "execution_count": 201,
   "metadata": {},
   "outputs": [
    {
     "name": "stdout",
     "output_type": "stream",
     "text": [
      "(64721, 3)\n"
     ]
    },
    {
     "name": "stderr",
     "output_type": "stream",
     "text": [
      "<ipython-input-201-5e333558eba3>:7: VisibleDeprecationWarning: Creating an ndarray from ragged nested sequences (which is a list-or-tuple of lists-or-tuples-or ndarrays with different lengths or shapes) is deprecated. If you meant to do this, you must specify 'dtype=object' when creating the ndarray\n",
      "  ShuffledData = np.array(dataToShuffle)\n"
     ]
    }
   ],
   "source": [
    "# Shuffle the data\n",
    "dataToShuffle = []\n",
    "\n",
    "for log, mfcc, label in zip(data['log-mel'],data['mfccs'],data['classes']):\n",
    "    dataToShuffle.append([log,mfcc,label])\n",
    "\n",
    "ShuffledData = np.array(dataToShuffle)\n",
    "np.random.shuffle(ShuffledData)\n",
    "print(ShuffledData.shape)"
   ]
  },
  {
   "cell_type": "code",
   "execution_count": 202,
   "metadata": {},
   "outputs": [],
   "source": [
    "# Separate the data into training and test datasets\n",
    "Train = ShuffledData[:45305]\n",
    "Test = ShuffledData[45305:]\n",
    "\n",
    "log_train = []\n",
    "mfcc_train = []\n",
    "y_train = []\n",
    "\n",
    "log_test = []\n",
    "mfcc_test = []\n",
    "y_test = []\n",
    "\n",
    "for log, mfcc, label in Train:\n",
    "    log_train.append(log)\n",
    "    mfcc_train.append(mfcc)\n",
    "    y_train.append(label)\n",
    "    \n",
    "for log, mfcc, label in Test:\n",
    "    log_test.append(log)\n",
    "    mfcc_test.append(mfcc)\n",
    "    y_test.append(label)\n"
   ]
  },
  {
   "cell_type": "markdown",
   "metadata": {},
   "source": [
    "# Create the model \n"
   ]
  },
  {
   "cell_type": "code",
   "execution_count": 215,
   "metadata": {},
   "outputs": [],
   "source": [
    "InputShape = log_test[0].shape\n",
    "output_dim = y_test[0].shape[0]\n",
    "dropout = 0.2\n",
    "\n",
    "\n",
    "# Creation of the Convolutional LSTM\n",
    "CLSTM = Sequential()\n",
    "# Input layer\n",
    "CLSTM.add(InputLayer(input_shape = (15,173)))\n",
    "\n",
    "# First convolutional layer with relu, BatchNorm and dropout\n",
    "CLSTM.add(Conv1D(filters=256, kernel_size=10, strides=4, name='conv_1'))\n",
    "CLSTM.add(BatchNormalization())\n",
    "CLSTM.add(Activation('relu'))\n",
    "\n",
    "CLSTM.add(Dropout(dropout, name='dropout_1'))\n",
    "\n",
    "# Two LSTM cells\n",
    "CLSTM.add(LSTM(128, activation='relu', return_sequences=True,\n",
    "             dropout=dropout, name='lstm_1'))\n",
    "CLSTM.add(LSTM(128, activation='relu', return_sequences=False,\n",
    "             dropout=dropout, name='lstm_2'))\n",
    "\n",
    "# Two dense layers with dropout\n",
    "CLSTM.add(Dense(units=64, activation='relu', name='fc1'))\n",
    "CLSTM.add(Dropout(dropout, name='dropout_2'))\n",
    "\n",
    "CLSTM.add(Dense(units=output_dim, activation='softmax', name='softmax'))\n",
    "\n",
    "\n",
    "\n",
    "\n",
    "\n",
    "# Create the optimizer\n",
    "opt = keras.optimizers.Adam(learning_rate=1e-4)\n",
    "\n",
    "# Import new metrics \n",
    "recall = keras.metrics.Recall()\n",
    "precision = keras.metrics.Precision()\n",
    "\n",
    "# Compile the model \n",
    "CLSTM.compile(loss='categorical_crossentropy', optimizer= opt, metrics=['accuracy', recall, precision])"
   ]
  },
  {
   "cell_type": "code",
   "execution_count": 216,
   "metadata": {},
   "outputs": [
    {
     "name": "stdout",
     "output_type": "stream",
     "text": [
      "Model: \"sequential_42\"\n",
      "_________________________________________________________________\n",
      "Layer (type)                 Output Shape              Param #   \n",
      "=================================================================\n",
      "conv_1 (Conv1D)              (None, 2, 256)            443136    \n",
      "_________________________________________________________________\n",
      "batch_normalization_45 (Batc (None, 2, 256)            1024      \n",
      "_________________________________________________________________\n",
      "activation_46 (Activation)   (None, 2, 256)            0         \n",
      "_________________________________________________________________\n",
      "dropout_1 (Dropout)          (None, 2, 256)            0         \n",
      "_________________________________________________________________\n",
      "lstm_1 (LSTM)                (None, 2, 128)            197120    \n",
      "_________________________________________________________________\n",
      "lstm_2 (LSTM)                (None, 128)               131584    \n",
      "_________________________________________________________________\n",
      "fc1 (Dense)                  (None, 64)                8256      \n",
      "_________________________________________________________________\n",
      "dropout_2 (Dropout)          (None, 64)                0         \n",
      "_________________________________________________________________\n",
      "softmax (Dense)              (None, 12)                780       \n",
      "=================================================================\n",
      "Total params: 781,900\n",
      "Trainable params: 781,388\n",
      "Non-trainable params: 512\n",
      "_________________________________________________________________\n"
     ]
    }
   ],
   "source": [
    "CLSTM.summary()"
   ]
  },
  {
   "cell_type": "markdown",
   "metadata": {},
   "source": [
    "# Train the model "
   ]
  },
  {
   "cell_type": "code",
   "execution_count": 217,
   "metadata": {},
   "outputs": [
    {
     "name": "stdout",
     "output_type": "stream",
     "text": [
      "Epoch 1/30\n",
      "638/638 [==============================] - 23s 32ms/step - loss: 1.5133 - accuracy: 0.6227 - recall_3: 0.4248 - precision_3: 0.7419 - val_loss: 1.2490 - val_accuracy: 0.6489 - val_recall_3: 0.5436 - val_precision_3: 0.7654\n",
      "Epoch 2/30\n",
      "638/638 [==============================] - 20s 31ms/step - loss: 1.2003 - accuracy: 0.6512 - recall_3: 0.5124 - precision_3: 0.7601 - val_loss: 0.9058 - val_accuracy: 0.7051 - val_recall_3: 0.6272 - val_precision_3: 0.7943\n",
      "Epoch 3/30\n",
      "638/638 [==============================] - 20s 32ms/step - loss: 1.0121 - accuracy: 0.6855 - recall_3: 0.5642 - precision_3: 0.7864 - val_loss: 0.7779 - val_accuracy: 0.7486 - val_recall_3: 0.6380 - val_precision_3: 0.8466\n",
      "Epoch 4/30\n",
      "638/638 [==============================] - 20s 31ms/step - loss: 0.9028 - accuracy: 0.7118 - recall_3: 0.6085 - precision_3: 0.8013 - val_loss: 0.7389 - val_accuracy: 0.7669 - val_recall_3: 0.6533 - val_precision_3: 0.8597\n",
      "Epoch 5/30\n",
      "638/638 [==============================] - 20s 31ms/step - loss: 0.8336 - accuracy: 0.7326 - recall_3: 0.6406 - precision_3: 0.8147 - val_loss: 0.7426 - val_accuracy: 0.7727 - val_recall_3: 0.6058 - val_precision_3: 0.8971\n",
      "Epoch 6/30\n",
      "638/638 [==============================] - 20s 31ms/step - loss: 0.7805 - accuracy: 0.7485 - recall_3: 0.6645 - precision_3: 0.8258 - val_loss: 0.6405 - val_accuracy: 0.7963 - val_recall_3: 0.7051 - val_precision_3: 0.8720\n",
      "Epoch 7/30\n",
      "638/638 [==============================] - 20s 31ms/step - loss: 0.7428 - accuracy: 0.7603 - recall_3: 0.6808 - precision_3: 0.8305 - val_loss: 0.5854 - val_accuracy: 0.8122 - val_recall_3: 0.7508 - val_precision_3: 0.8802\n",
      "Epoch 8/30\n",
      "638/638 [==============================] - 20s 32ms/step - loss: 0.7081 - accuracy: 0.7706 - recall_3: 0.6951 - precision_3: 0.8374 - val_loss: 0.5516 - val_accuracy: 0.8237 - val_recall_3: 0.7574 - val_precision_3: 0.8802\n",
      "Epoch 9/30\n",
      "638/638 [==============================] - 20s 31ms/step - loss: 0.6747 - accuracy: 0.7801 - recall_3: 0.7124 - precision_3: 0.8443 - val_loss: 0.5714 - val_accuracy: 0.8179 - val_recall_3: 0.7433 - val_precision_3: 0.8805\n",
      "Epoch 10/30\n",
      "638/638 [==============================] - 20s 31ms/step - loss: 0.6535 - accuracy: 0.7890 - recall_3: 0.7219 - precision_3: 0.8480 - val_loss: 0.5043 - val_accuracy: 0.8418 - val_recall_3: 0.7738 - val_precision_3: 0.8960\n",
      "Epoch 11/30\n",
      "638/638 [==============================] - 20s 31ms/step - loss: 0.6284 - accuracy: 0.7948 - recall_3: 0.7352 - precision_3: 0.8514 - val_loss: 0.5226 - val_accuracy: 0.8318 - val_recall_3: 0.7811 - val_precision_3: 0.8773\n",
      "Epoch 12/30\n",
      "638/638 [==============================] - 20s 31ms/step - loss: 0.6114 - accuracy: 0.7998 - recall_3: 0.7423 - precision_3: 0.8559 - val_loss: 0.4776 - val_accuracy: 0.8482 - val_recall_3: 0.8018 - val_precision_3: 0.8920\n",
      "Epoch 13/30\n",
      "638/638 [==============================] - 20s 31ms/step - loss: 0.5917 - accuracy: 0.8061 - recall_3: 0.7511 - precision_3: 0.8590 - val_loss: 0.4576 - val_accuracy: 0.8572 - val_recall_3: 0.8122 - val_precision_3: 0.8941\n",
      "Epoch 14/30\n",
      "638/638 [==============================] - 20s 31ms/step - loss: 0.5816 - accuracy: 0.8077 - recall_3: 0.7552 - precision_3: 0.8603 - val_loss: 0.4772 - val_accuracy: 0.8457 - val_recall_3: 0.7981 - val_precision_3: 0.8878\n",
      "Epoch 15/30\n",
      "638/638 [==============================] - 20s 31ms/step - loss: 0.5583 - accuracy: 0.8158 - recall_3: 0.7648 - precision_3: 0.8659 - val_loss: 0.4626 - val_accuracy: 0.8464 - val_recall_3: 0.8192 - val_precision_3: 0.8749\n",
      "Epoch 16/30\n",
      "638/638 [==============================] - 20s 31ms/step - loss: 0.5538 - accuracy: 0.8210 - recall_3: 0.7697 - precision_3: 0.8676 - val_loss: 0.4512 - val_accuracy: 0.8552 - val_recall_3: 0.7998 - val_precision_3: 0.9058\n",
      "Epoch 17/30\n",
      "638/638 [==============================] - 20s 31ms/step - loss: 0.5372 - accuracy: 0.8253 - recall_3: 0.7774 - precision_3: 0.8718 - val_loss: 0.4400 - val_accuracy: 0.8636 - val_recall_3: 0.8190 - val_precision_3: 0.9020\n",
      "Epoch 18/30\n",
      "638/638 [==============================] - 20s 31ms/step - loss: 0.5296 - accuracy: 0.8270 - recall_3: 0.7787 - precision_3: 0.8718 - val_loss: 0.4524 - val_accuracy: 0.8530 - val_recall_3: 0.8250 - val_precision_3: 0.8841\n",
      "Epoch 19/30\n",
      "638/638 [==============================] - 20s 31ms/step - loss: 0.5150 - accuracy: 0.8301 - recall_3: 0.7849 - precision_3: 0.8743 - val_loss: 0.4176 - val_accuracy: 0.8698 - val_recall_3: 0.8351 - val_precision_3: 0.8992\n",
      "Epoch 20/30\n",
      "638/638 [==============================] - 20s 31ms/step - loss: 0.5079 - accuracy: 0.8358 - recall_3: 0.7891 - precision_3: 0.8775 - val_loss: 0.4591 - val_accuracy: 0.8484 - val_recall_3: 0.8071 - val_precision_3: 0.8861\n",
      "Epoch 21/30\n",
      "638/638 [==============================] - 20s 31ms/step - loss: 0.4944 - accuracy: 0.8398 - recall_3: 0.7980 - precision_3: 0.8809 - val_loss: 0.4216 - val_accuracy: 0.8607 - val_recall_3: 0.8252 - val_precision_3: 0.8971\n",
      "Epoch 22/30\n",
      "638/638 [==============================] - 20s 31ms/step - loss: 0.4890 - accuracy: 0.8388 - recall_3: 0.7992 - precision_3: 0.8808 - val_loss: 0.4126 - val_accuracy: 0.8713 - val_recall_3: 0.8283 - val_precision_3: 0.9015\n",
      "Epoch 23/30\n",
      "638/638 [==============================] - 22s 34ms/step - loss: 0.4776 - accuracy: 0.8441 - recall_3: 0.8037 - precision_3: 0.8841 - val_loss: 0.4141 - val_accuracy: 0.8682 - val_recall_3: 0.8442 - val_precision_3: 0.8941\n",
      "Epoch 24/30\n",
      "638/638 [==============================] - 22s 34ms/step - loss: 0.4676 - accuracy: 0.8476 - recall_3: 0.8096 - precision_3: 0.8856 - val_loss: 0.3928 - val_accuracy: 0.8742 - val_recall_3: 0.8400 - val_precision_3: 0.9107\n",
      "Epoch 25/30\n",
      "638/638 [==============================] - 21s 32ms/step - loss: 0.4659 - accuracy: 0.8462 - recall_3: 0.8092 - precision_3: 0.8859 - val_loss: 0.4017 - val_accuracy: 0.8755 - val_recall_3: 0.8365 - val_precision_3: 0.9122\n",
      "Epoch 26/30\n",
      "638/638 [==============================] - 21s 32ms/step - loss: 0.4574 - accuracy: 0.8473 - recall_3: 0.8095 - precision_3: 0.8875 - val_loss: 0.3916 - val_accuracy: 0.8746 - val_recall_3: 0.8466 - val_precision_3: 0.9009\n",
      "Epoch 27/30\n",
      "638/638 [==============================] - 21s 34ms/step - loss: 0.4470 - accuracy: 0.8511 - recall_3: 0.8154 - precision_3: 0.8888 - val_loss: 0.3960 - val_accuracy: 0.8696 - val_recall_3: 0.8338 - val_precision_3: 0.9082\n",
      "Epoch 28/30\n",
      "638/638 [==============================] - 21s 33ms/step - loss: 0.4398 - accuracy: 0.8550 - recall_3: 0.8199 - precision_3: 0.8925 - val_loss: 0.3852 - val_accuracy: 0.8771 - val_recall_3: 0.8512 - val_precision_3: 0.9086\n",
      "Epoch 29/30\n",
      "638/638 [==============================] - 22s 34ms/step - loss: 0.4308 - accuracy: 0.8601 - recall_3: 0.8251 - precision_3: 0.8934 - val_loss: 0.3773 - val_accuracy: 0.8799 - val_recall_3: 0.8479 - val_precision_3: 0.9068\n",
      "Epoch 30/30\n",
      "638/638 [==============================] - 22s 34ms/step - loss: 0.4297 - accuracy: 0.8595 - recall_3: 0.8256 - precision_3: 0.8928 - val_loss: 0.3859 - val_accuracy: 0.8749 - val_recall_3: 0.8506 - val_precision_3: 0.9011\n"
     ]
    }
   ],
   "source": [
    "#Train the model \n",
    "\n",
    "# Initiate early stopping callback (on validation set from training data 0.15)\n",
    "callback = keras.callbacks.EarlyStopping(monitor='val_loss',patience = 3)\n",
    "# Initiate x and y train arrays\n",
    "x_train = np.array(mfcc_train)\n",
    "y_train = np.array(y_train)\n",
    "\n",
    "# Fit the model on the data \n",
    "history = CLSTM.fit(x=x_train, y=y_train, epochs=30, batch_size=128, validation_split = 0.10, callbacks = [callback])"
   ]
  },
  {
   "cell_type": "markdown",
   "metadata": {},
   "source": [
    "# Save the model "
   ]
  },
  {
   "cell_type": "code",
   "execution_count": 187,
   "metadata": {},
   "outputs": [
    {
     "name": "stdout",
     "output_type": "stream",
     "text": [
      "INFO:tensorflow:Assets written to: models\\ConvLSTM\\assets\n"
     ]
    }
   ],
   "source": [
    "# Save the model \n",
    "CLSTM.save('models\\ConvLSTM')\n",
    "\n",
    "# Save history object\n",
    "file = open('models\\ConvLSTM_history', 'wb')\n",
    "pickle.dump(history.history,file)\n",
    "file.close()"
   ]
  },
  {
   "cell_type": "markdown",
   "metadata": {},
   "source": [
    "# Load the model"
   ]
  },
  {
   "cell_type": "code",
   "execution_count": 211,
   "metadata": {},
   "outputs": [],
   "source": [
    "# Load the model \n",
    "model = keras.models.load_model('models\\ConvLSTM')\n",
    "\n",
    "\n",
    "# Load the history object \n",
    "file = open('models\\ConvLSTM_history', 'rb')\n",
    "history = pickle.load(file)\n",
    "file.close()"
   ]
  },
  {
   "cell_type": "markdown",
   "metadata": {},
   "source": [
    "# Test the model "
   ]
  },
  {
   "cell_type": "code",
   "execution_count": 219,
   "metadata": {},
   "outputs": [
    {
     "name": "stdout",
     "output_type": "stream",
     "text": [
      "607/607 [==============================] - 6s 9ms/step - loss: 0.3527 - accuracy: 0.8888 - recall_1: 0.8652 - precision_1: 0.9127\n"
     ]
    }
   ],
   "source": [
    "# Testing the model \n",
    "\n",
    "#Evaluate function \n",
    "x_test = np.array(mfcc_test)\n",
    "y_test = np.array(y_test)\n",
    "score = model.evaluate(x_test,y_test)"
   ]
  },
  {
   "cell_type": "code",
   "execution_count": 209,
   "metadata": {},
   "outputs": [],
   "source": [
    "# Model's prediction on the test data and the desired output\n",
    "output = model.predict(x_test)\n",
    "logits_pred = output.argmax(axis=1)\n",
    "logits_test = y_test.argmax(axis=1)"
   ]
  },
  {
   "cell_type": "markdown",
   "metadata": {},
   "source": [
    "# Plotting the results and metrics"
   ]
  },
  {
   "cell_type": "code",
   "execution_count": 212,
   "metadata": {},
   "outputs": [
    {
     "data": {
      "image/png": "[encoded data removed]",
      "text/plain": [
       "<Figure size 432x288 with 1 Axes>"
      ]
     },
     "metadata": {
      "needs_background": "light"
     },
     "output_type": "display_data"
    }
   ],
   "source": [
    "# Training/Validation Loss\n",
    "plt.plot(history['loss'], label=\"training loss\")\n",
    "plt.plot(history['val_loss'], label=\"Validation loss\")\n",
    "plt.plot(history['accuracy'], label=\"training Accuracy\")\n",
    "plt.plot(history['val_accuracy'], label=\"Validation Accuracy\")\n",
    "plt.title('Loss of the model over the epochs against its accuracy')\n",
    "\n",
    "plt.xlabel('No. epoch')\n",
    "plt.legend(loc=\"upper left\")\n",
    "plt.show()"
   ]
  },
  {
   "cell_type": "code",
   "execution_count": 213,
   "metadata": {},
   "outputs": [
    {
     "data": {
      "text/plain": [
       "<AxesSubplot:>"
      ]
     },
     "execution_count": 213,
     "metadata": {},
     "output_type": "execute_result"
    },
    {
     "data": {
      "image/png": "[encoded data removed]",
      "text/plain": [
       "<Figure size 432x288 with 2 Axes>"
      ]
     },
     "metadata": {
      "needs_background": "light"
     },
     "output_type": "display_data"
    }
   ],
   "source": [
    "# Confusion matrix\n",
    "cf_matrix = confusion_matrix(logits_test,logits_pred)\n",
    "sns.heatmap(cf_matrix, annot=True, fmt='g' )"
   ]
  },
  {
   "cell_type": "code",
   "execution_count": 214,
   "metadata": {},
   "outputs": [
    {
     "data": {
      "image/png": "[encoded data removed]",
      "text/plain": [
       "<Figure size 432x288 with 1 Axes>"
      ]
     },
     "metadata": {
      "needs_background": "light"
     },
     "output_type": "display_data"
    }
   ],
   "source": [
    "# Precision / Recall curve (training)\n",
    "plt.plot(history['precision_1'], label=\"Precission\")\n",
    "plt.plot(history['recall_1'], label=\"Recall\")\n",
    "plt.title('precission/recall of the model over the epochs')\n",
    "plt.xlabel('No. epoch')\n",
    "plt.legend(loc=\"upper left\")\n",
    "plt.show()"
   ]
  },
  {
   "cell_type": "code",
   "execution_count": null,
   "metadata": {},
   "outputs": [],
   "source": [
    " "
   ]
  }
 ],
 "metadata": {
  "kernelspec": {
   "display_name": "Python 3",
   "language": "python",
   "name": "python3"
  },
  "language_info": {
   "codemirror_mode": {
    "name": "ipython",
    "version": 3
   },
   "file_extension": ".py",
   "mimetype": "text/x-python",
   "name": "python",
   "nbconvert_exporter": "python",
   "pygments_lexer": "ipython3",
   "version": "3.9.1"
  }
 },
 "nbformat": 4,
 "nbformat_minor": 4
}
